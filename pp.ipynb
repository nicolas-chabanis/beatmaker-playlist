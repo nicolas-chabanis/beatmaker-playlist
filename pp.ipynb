{
 "cells": [
  {
   "cell_type": "code",
   "execution_count": null,
   "metadata": {},
   "outputs": [],
   "source": [
    "import requests\n",
    "import pandas as pd\n",
    "import json\n",
    "import spotipy\n",
    "from spotipy.oauth2 import SpotifyClientCredentials\n",
    "from spotipy.oauth2 import SpotifyOAuth\n",
    "import base64\n",
    "from urllib.parse import urlencode\n",
    "import webbrowser\n",
    "import textdistance\n",
    "from unidecode import unidecode\n",
    "from datetime import datetime\n",
    "import re\n",
    "\n",
    "import api_key"
   ]
  },
  {
   "cell_type": "code",
   "execution_count": null,
   "metadata": {},
   "outputs": [],
   "source": [
    "search_term = 'Artist-name Track-name'"
   ]
  },
  {
   "cell_type": "code",
   "execution_count": null,
   "metadata": {},
   "outputs": [],
   "source": [
    "### Base URLs for API calls\n",
    "GENIUS_BASE_URL = \"https://api.genius.com\"\n",
    "SPOTIFY_BASE_URL = \"https://api.spotify.com/v1\"\n",
    "\n",
    "### Get function\n",
    "def _get(base_url, client_access_token, path, params=None, headers=None):\n",
    "\n",
    "    # generate request URL\n",
    "    requrl = '/'.join([base_url, path])\n",
    "    token = \"Bearer {}\".format(client_access_token)\n",
    "    if headers:\n",
    "        headers['Authorization'] = token\n",
    "    else:\n",
    "        headers = {\"Authorization\": token}\n",
    "\n",
    "    response = requests.get(url=requrl, params=params, headers=headers)\n",
    "    response.raise_for_status()\n",
    "\n",
    "    return response.json()\n",
    "\n",
    "### Put function\n",
    "def _put(base_url, client_access_token, path, params=None, headers=None):\n",
    "    requrl = '/'.join([base_url, path])\n",
    "    token = \"Bearer {}\".format(client_access_token)\n",
    "    if headers:\n",
    "        headers['Authorization'] = token\n",
    "    else:\n",
    "        headers = {\"Authorization\": token}\n",
    "    response = requests.put(url=requrl, params=params, headers=headers)\n",
    "    response.raise_for_status()\n",
    "    return response.json()\n",
    "\n",
    "def write_json(path, json_file):\n",
    "    with open(path, 'w') as f:\n",
    "        json.dump(json_file, f, indent=4)"
   ]
  },
  {
   "cell_type": "code",
   "execution_count": null,
   "metadata": {},
   "outputs": [],
   "source": [
    "### Get song id produced by the target producer\n",
    "r = _get(GENIUS_BASE_URL, api_key.GENIUS_CLIENT_ACCESS_TOKEN, \"search\", {'q':search_term})\n",
    "found_song_id = r['response']['hits'][0]['result']['id']\n",
    "\n",
    "#write_json('json_song_search.json', r)\n",
    "print(\"Found song \\'\", r['response']['hits'][0]['result']['full_title'], \"\\' with song id\", found_song_id)"
   ]
  },
  {
   "cell_type": "code",
   "execution_count": null,
   "metadata": {},
   "outputs": [],
   "source": [
    "### Get song info from song id\n",
    "path = \"songs/{}\".format(found_song_id)\n",
    "r = _get(GENIUS_BASE_URL, api_key.GENIUS_CLIENT_ACCESS_TOKEN, path=path)\n",
    "\n",
    "#write_json('json_song_get.json', r)"
   ]
  },
  {
   "cell_type": "code",
   "execution_count": null,
   "metadata": {},
   "outputs": [],
   "source": [
    "### Get producer id from song info\n",
    "found_producer_name = r['response']['song']['producer_artists'][0]['name']\n",
    "print(\"Found producer : \" + found_producer_name)\n",
    "found_producer_id = r['response']['song']['producer_artists'][0]['id']"
   ]
  },
  {
   "cell_type": "code",
   "execution_count": null,
   "metadata": {},
   "outputs": [],
   "source": [
    "### Get producer image from Genius.com\n",
    "path = \"artists/{}\".format(found_producer_id)\n",
    "r = _get(GENIUS_BASE_URL, api_key.GENIUS_CLIENT_ACCESS_TOKEN, path=path)\n",
    "image_url = r['response']['artist']['image_url']\n",
    "\n",
    "#write_json('producer_info.json', r)"
   ]
  },
  {
   "cell_type": "code",
   "execution_count": null,
   "metadata": {},
   "outputs": [],
   "source": [
    "### Get all songs from producer\n",
    "path = \"artists/{}/songs\".format(found_producer_id)\n",
    "songs = []\n",
    "current_page = 1\n",
    "next_page = True\n",
    "\n",
    "while next_page:\n",
    "    params = {'sort': \"popularity\", 'page': current_page}\n",
    "    r = _get(GENIUS_BASE_URL, api_key.GENIUS_CLIENT_ACCESS_TOKEN, path=path, params=params)\n",
    "    page_songs = r['response']['songs']\n",
    "    if page_songs:\n",
    "        songs += page_songs\n",
    "        current_page += 1\n",
    "    else:\n",
    "        next_page = False\n",
    "\n",
    "#write_json('json_song_from_producer_get.json', songs)"
   ]
  },
  {
   "cell_type": "code",
   "execution_count": null,
   "metadata": {},
   "outputs": [],
   "source": [
    "### Build song search list (title + artist name) for spotify\n",
    "\n",
    "spot_search = []\n",
    "not_produced_by = []\n",
    "\n",
    "for song in songs:\n",
    "    # Build query string from track title and artist name\n",
    "    pair = []\n",
    "    pair.append(json.dumps(song['title'], ensure_ascii=False).replace('\"', ''))\n",
    "    pair.append(json.dumps(song['primary_artist']['name'], ensure_ascii=False).replace('\"', ''))\n",
    "    # Check is the song is produced by the target producer\n",
    "    path = \"songs/{}\".format(song['id'])\n",
    "    r = _get(GENIUS_BASE_URL, api_key.GENIUS_CLIENT_ACCESS_TOKEN, path=path)\n",
    "    produced_by = False\n",
    "    for producer in r['response']['song']['producer_artists']:\n",
    "        if(producer['id'] == found_producer_id):\n",
    "            produced_by = True\n",
    "            spot_search.append(pair)\n",
    "            break\n",
    "    if(produced_by == False):\n",
    "        not_produced_by.append(pair)"
   ]
  },
  {
   "cell_type": "code",
   "execution_count": null,
   "metadata": {},
   "outputs": [],
   "source": [
    "### Build song id list\n",
    "sp_Client = spotipy.Spotify(auth_manager=SpotifyClientCredentials(client_id=api_key.SPOTIFY_CLIENT_ID, client_secret=api_key.SPOTIFY_CLIENT_SECRET))\n",
    "\n",
    "tracks_id = []\n",
    "not_found = []\n",
    "for count, query_list in enumerate(spot_search):\n",
    "    found=False\n",
    "    query = query_list[0] + \" \" + query_list[1]\n",
    "    track_search = sp_Client.search(query[0:100], type='track', limit=5, market=api_key.SPOTIFY_COUNTRY_CODE)\n",
    "    track_searched = re.sub(\"[\\(\\[].*?[\\)\\]]\", \"\", unidecode(spot_search[count][0]).lower())\n",
    "    artist_searched = re.sub(\"[\\(\\[].*?[\\)\\]]\", \"\", unidecode(spot_search[count][1]).lower())\n",
    "    #write_json('track_search.json', track_search)\n",
    "    #print(\"SEARCHING FOR : <\" + query + \">\")\n",
    "    for i in range(min(track_search['tracks']['total'], track_search['tracks']['limit'])):\n",
    "        dis = textdistance.jaccard.normalized_distance\n",
    "        op = textdistance.overlap.normalized_distance\n",
    "        s = track_search['tracks']['items'][i]['name'] + \" \" + track_search['tracks']['items'][i]['artists'][0]['name']\n",
    "        track_found = re.sub(\"[\\(\\[].*?[\\)\\]]\", \"\", unidecode(track_search['tracks']['items'][i]['name']).lower())\n",
    "        artist_found = re.sub(\"[\\(\\[].*?[\\)\\]]\", \"\", unidecode(track_search['tracks']['items'][i]['artists'][0]['name']).lower())\n",
    "        dis_track = dis(track_searched, track_found)\n",
    "        dis_artist = dis(artist_searched, artist_found)\n",
    "        op_track = op(track_searched, track_found)\n",
    "        op_artist = op(artist_searched, artist_found)\n",
    "        #print(s, \"{:.2f}\".format(dis_track), \"{:.2f}\".format(dis_artist), \"{:.2f}\".format(op_track), \"{:.2f}\".format(op_artist))\n",
    "        if((op_track <= 0.3) & (op_artist <= 0.3) & (dis_artist <= 0.3) & (dis_track <= 0.5)):\n",
    "            tracks_id.append(track_search['tracks']['items'][i]['id'])    \n",
    "            found=True\n",
    "            break\n",
    "    if(found==False):\n",
    "        not_found.append(query)\n",
    "\n",
    "\n",
    "\n",
    "print(\"--- Following tracks were not found :\")\n",
    "for count, song in enumerate(not_found):\n",
    "    print(\"[\" + str(count) + \"]\" + \" \" + song)\n",
    "\n",
    "print(\"\")\n",
    "print(\" -------------------------------------------------------------\")\n",
    "print(\"\")\n",
    "print(\"--- Following tracks were not produced by \" + found_producer_name + \" so they weren't added to the playlist :\")\n",
    "for count, song in enumerate(not_produced_by):\n",
    "    print(\"[\" + str(count) + \"]\" + \" \" + song[0] + \" \" + song[1])"
   ]
  },
  {
   "cell_type": "code",
   "execution_count": null,
   "metadata": {},
   "outputs": [],
   "source": [
    "### Create Auth Manager\n",
    "scope=\"playlist-modify-public, playlist-modify-public, ugc-image-upload\"\n",
    "auth_manager = SpotifyOAuth(scope=scope, client_id=api_key.SPOTIFY_CLIEsNT_ID, client_secret=api_key.SPOTIFY_CLIENT_SECRET, redirect_uri=api_key.SPOTIPY_REDIRECT_URI, open_browser=True)\n",
    "sp_OAuth = spotipy.Spotify(auth_manager=auth_manager)"
   ]
  },
  {
   "cell_type": "code",
   "execution_count": null,
   "metadata": {},
   "outputs": [],
   "source": [
    "### Create playlist\n",
    "user = sp_OAuth.me()['id']\n",
    "playlist_name=\"Produced by \" + found_producer_name\n",
    "now = datetime.now()\n",
    "description = \"Songs produced by \" + found_producer_name + \", creation date : \" + now.strftime(\"%d/%m/%Y\")\n",
    "playlist = sp_OAuth.user_playlist_create(user, playlist_name)\n",
    "sp_OAuth.user_playlist_change_details(user, playlist['id'], description=description)"
   ]
  },
  {
   "cell_type": "code",
   "execution_count": null,
   "metadata": {},
   "outputs": [],
   "source": [
    "### Change playlist image cover\n",
    "playlist_image = base64.b64encode(requests.get(image_url).content)\n",
    "#TODO : resize image to max spotify image size/weight ?\n",
    "sp_OAuth.playlist_upload_cover_image(playlist['id'], playlist_image)"
   ]
  },
  {
   "cell_type": "code",
   "execution_count": null,
   "metadata": {},
   "outputs": [],
   "source": [
    "### Add tracks by ids\n",
    "l = len(tracks_id)//100\n",
    "for i in range(l):\n",
    "    sp_OAuth.user_playlist_add_tracks(user, playlist['id'], tracks_id[i*100:(i+1)*100])\n",
    "sp_OAuth.user_playlist_add_tracks(user, playlist['id'], tracks_id[l*100:len(tracks_id)-1])\n"
   ]
  }
 ],
 "metadata": {
  "kernelspec": {
   "display_name": "Python 3.10.6 ('pptest')",
   "language": "python",
   "name": "python3"
  },
  "language_info": {
   "codemirror_mode": {
    "name": "ipython",
    "version": 3
   },
   "file_extension": ".py",
   "mimetype": "text/x-python",
   "name": "python",
   "nbconvert_exporter": "python",
   "pygments_lexer": "ipython3",
   "version": "3.10.6"
  },
  "orig_nbformat": 4,
  "vscode": {
   "interpreter": {
    "hash": "bb6a787c061ff4337e8da272c8338783afc01e5a60810d5742db38f5284a1a35"
   }
  }
 },
 "nbformat": 4,
 "nbformat_minor": 2
}
